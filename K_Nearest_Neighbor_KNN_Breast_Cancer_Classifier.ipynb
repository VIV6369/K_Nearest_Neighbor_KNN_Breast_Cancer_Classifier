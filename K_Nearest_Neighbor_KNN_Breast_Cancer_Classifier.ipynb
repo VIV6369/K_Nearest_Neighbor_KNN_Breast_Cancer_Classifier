{
 "cells": [
  {
   "cell_type": "markdown",
   "id": "af4c3e87",
   "metadata": {},
   "source": [
    "# Breast Cancer Classifier\n",
    "\n",
    "In this project, we will be using several Python libraries to make a K-Nearest Neighbor classifier that is trained to predict whether a patient has breast cancer."
   ]
  },
  {
   "cell_type": "markdown",
   "id": "be64f8d0",
   "metadata": {},
   "source": [
    "#### Explore the data"
   ]
  },
  {
   "cell_type": "code",
   "execution_count": 10,
   "id": "6a5dfaa3",
   "metadata": {},
   "outputs": [
    {
     "name": "stdout",
     "output_type": "stream",
     "text": [
      "First data point: [1.799e+01 1.038e+01 1.228e+02 1.001e+03 1.184e-01 2.776e-01 3.001e-01\n",
      " 1.471e-01 2.419e-01 7.871e-02 1.095e+00 9.053e-01 8.589e+00 1.534e+02\n",
      " 6.399e-03 4.904e-02 5.373e-02 1.587e-02 3.003e-02 6.193e-03 2.538e+01\n",
      " 1.733e+01 1.846e+02 2.019e+03 1.622e-01 6.656e-01 7.119e-01 2.654e-01\n",
      " 4.601e-01 1.189e-01]\n",
      "Feature names: ['mean radius' 'mean texture' 'mean perimeter' 'mean area'\n",
      " 'mean smoothness' 'mean compactness' 'mean concavity'\n",
      " 'mean concave points' 'mean symmetry' 'mean fractal dimension'\n",
      " 'radius error' 'texture error' 'perimeter error' 'area error'\n",
      " 'smoothness error' 'compactness error' 'concavity error'\n",
      " 'concave points error' 'symmetry error' 'fractal dimension error'\n",
      " 'worst radius' 'worst texture' 'worst perimeter' 'worst area'\n",
      " 'worst smoothness' 'worst compactness' 'worst concavity'\n",
      " 'worst concave points' 'worst symmetry' 'worst fractal dimension']\n",
      "Classification labels: [0 0 0 0 0 0 0 0 0 0 0 0 0 0 0 0 0 0 0 1 1 1 0 0 0 0 0 0 0 0 0 0 0 0 0 0 0\n",
      " 1 0 0 0 0 0 0 0 0 1 0 1 1 1 1 1 0 0 1 0 0 1 1 1 1 0 1 0 0 1 1 1 1 0 1 0 0\n",
      " 1 0 1 0 0 1 1 1 0 0 1 0 0 0 1 1 1 0 1 1 0 0 1 1 1 0 0 1 1 1 1 0 1 1 0 1 1\n",
      " 1 1 1 1 1 1 0 0 0 1 0 0 1 1 1 0 0 1 0 1 0 0 1 0 0 1 1 0 1 1 0 1 1 1 1 0 1\n",
      " 1 1 1 1 1 1 1 1 0 1 1 1 1 0 0 1 0 1 1 0 0 1 1 0 0 1 1 1 1 0 1 1 0 0 0 1 0\n",
      " 1 0 1 1 1 0 1 1 0 0 1 0 0 0 0 1 0 0 0 1 0 1 0 1 1 0 1 0 0 0 0 1 1 0 0 1 1\n",
      " 1 0 1 1 1 1 1 0 0 1 1 0 1 1 0 0 1 0 1 1 1 1 0 1 1 1 1 1 0 1 0 0 0 0 0 0 0\n",
      " 0 0 0 0 0 0 0 1 1 1 1 1 1 0 1 0 1 1 0 1 1 0 1 0 0 1 1 1 1 1 1 1 1 1 1 1 1\n",
      " 1 0 1 1 0 1 0 1 1 1 1 1 1 1 1 1 1 1 1 1 1 0 1 1 1 0 1 0 1 1 1 1 0 0 0 1 1\n",
      " 1 1 0 1 0 1 0 1 1 1 0 1 1 1 1 1 1 1 0 0 0 1 1 1 1 1 1 1 1 1 1 1 0 0 1 0 0\n",
      " 0 1 0 0 1 1 1 1 1 0 1 1 1 1 1 0 1 1 1 0 1 1 0 0 1 1 1 1 1 1 0 1 1 1 1 1 1\n",
      " 1 0 1 1 1 1 1 0 1 1 0 1 1 1 1 1 1 1 1 1 1 1 1 0 1 0 0 1 0 1 1 1 1 1 0 1 1\n",
      " 0 1 0 1 1 0 1 0 1 1 1 1 1 1 1 1 0 0 1 1 1 1 1 1 0 1 1 1 1 1 1 1 1 1 1 0 1\n",
      " 1 1 1 1 1 1 0 1 0 1 1 0 1 1 1 1 1 0 0 1 0 1 0 1 1 1 1 1 0 1 1 0 1 0 1 0 0\n",
      " 1 1 1 0 1 1 1 1 1 1 1 1 1 1 1 0 1 0 0 1 1 1 1 1 1 1 1 1 1 1 1 1 1 1 1 1 1\n",
      " 1 1 1 1 1 1 1 0 0 0 0 0 0 1]\n",
      "Classification names: ['malignant' 'benign']\n"
     ]
    }
   ],
   "source": [
    "# Load the data from sklearn library\n",
    "from sklearn.datasets import load_breast_cancer\n",
    "breast_cancer_data = load_breast_cancer()\n",
    "# Examine data\n",
    "print(\"First data point:\", breast_cancer_data.data[0])\n",
    "print(\"Feature names:\", breast_cancer_data.feature_names)\n",
    "print(\"Classification labels:\", breast_cancer_data.target)\n",
    "print(\"Classification names:\", breast_cancer_data.target_names)"
   ]
  },
  {
   "cell_type": "markdown",
   "id": "38204d74",
   "metadata": {},
   "source": [
    "#### Splitting the data into Training and Validation Sets"
   ]
  },
  {
   "cell_type": "code",
   "execution_count": 11,
   "id": "eadad0ca",
   "metadata": {},
   "outputs": [],
   "source": [
    "# Importing library\n",
    "from sklearn.model_selection import train_test_split\n",
    "# Split data into training and validation sets\n",
    "training_data, validation_data, training_labels, validation_labels = train_test_split(breast_cancer_data.data,breast_cancer_data.target, test_size=0.2, random_state=100)"
   ]
  },
  {
   "cell_type": "markdown",
   "id": "1747db7e",
   "metadata": {},
   "source": [
    "Let’s confirm that worked correctly. *training_data* and *training_labels* should be the same size - one label for every piece of data!"
   ]
  },
  {
   "cell_type": "code",
   "execution_count": 12,
   "id": "a0355b32",
   "metadata": {},
   "outputs": [
    {
     "name": "stdout",
     "output_type": "stream",
     "text": [
      "455 455\n"
     ]
    }
   ],
   "source": [
    "print(len(training_data), len(training_labels))"
   ]
  },
  {
   "cell_type": "markdown",
   "id": "640a676a",
   "metadata": {},
   "source": [
    "#### Classifier\n",
    "\n",
    "Now that we’ve created training and validation sets, we can create a KNeighborsClassifier and test its accuracy. "
   ]
  },
  {
   "cell_type": "code",
   "execution_count": 14,
   "id": "36e23a54",
   "metadata": {},
   "outputs": [
    {
     "data": {
      "text/plain": [
       "KNeighborsClassifier(n_neighbors=3)"
      ]
     },
     "execution_count": 14,
     "metadata": {},
     "output_type": "execute_result"
    }
   ],
   "source": [
    "# Import classifier\n",
    "from sklearn.neighbors import KNeighborsClassifier\n",
    "# Setting classifier with k=3\n",
    "classifier = KNeighborsClassifier(n_neighbors=3)\n",
    "# Train classifier\n",
    "classifier.fit(training_data,training_labels)"
   ]
  },
  {
   "cell_type": "markdown",
   "id": "2bf2b73c",
   "metadata": {},
   "source": [
    "Now that the classifier has been trained, let’s find how accurate it is on the validation set."
   ]
  },
  {
   "cell_type": "code",
   "execution_count": 15,
   "id": "41c7b20e",
   "metadata": {},
   "outputs": [
    {
     "name": "stdout",
     "output_type": "stream",
     "text": [
      "Classifier score: 0.9473684210526315\n"
     ]
    }
   ],
   "source": [
    "# Finding classifier score\n",
    "print(\"Classifier score:\", classifier.score(validation_data,validation_labels))"
   ]
  },
  {
   "cell_type": "markdown",
   "id": "0bc12cef",
   "metadata": {},
   "source": [
    "Let's check if there is a *k* value with better score."
   ]
  },
  {
   "cell_type": "code",
   "execution_count": 64,
   "id": "fe212426",
   "metadata": {},
   "outputs": [
    {
     "name": "stdout",
     "output_type": "stream",
     "text": [
      "Max score, k: (0.9649122807017544, 56)\n"
     ]
    }
   ],
   "source": [
    "# Finding optimal k value\n",
    "scores_list=[]\n",
    "for k in range(1,101):\n",
    "    classifier = KNeighborsClassifier(n_neighbors=k)\n",
    "    classifier.fit(training_data,training_labels)\n",
    "    scores_list.append(classifier.score(validation_data,validation_labels))\n",
    "k_list=range(1,101)\n",
    "scores_and_k = list(zip(scores_list,k_list))\n",
    "print(\"Max score, k:\", max(scores_and_k))\n"
   ]
  },
  {
   "cell_type": "markdown",
   "id": "59d3b1ee",
   "metadata": {},
   "source": [
    "#### Graphing the results\n",
    "\n",
    "We now have the validation accuracy for 100 different k's. Let's visualize them."
   ]
  },
  {
   "cell_type": "code",
   "execution_count": 81,
   "id": "3f42d087",
   "metadata": {},
   "outputs": [
    {
     "data": {
      "image/png": "[encoded data removed]",
      "text/plain": [
       "<Figure size 720x504 with 1 Axes>"
      ]
     },
     "metadata": {
      "needs_background": "light"
     },
     "output_type": "display_data"
    }
   ],
   "source": [
    "# Import matlab library\n",
    "import matplotlib.pyplot as plt\n",
    "\n",
    "# Plotting chart of out k's and validation scores\n",
    "plt.figure(figsize = (10,7))\n",
    "plt.plot(k_list,scores_list)\n",
    "plt.xlabel(\"k\", size =12)\n",
    "plt.ylabel(\"Validation Score\",size=12)\n",
    "plt.title(\"Breast Cancer Classifier Accuracy\", size =16)\n",
    "plt.axvline(56, color='red')\n",
    "plt.axvline(23, color='red')\n",
    "plt.xticks([0,23,56,80,100],['0','23','56','80','100'])\n",
    "plt.show()\n",
    "plt.close()\n"
   ]
  },
  {
   "cell_type": "markdown",
   "id": "34bd633c",
   "metadata": {},
   "source": [
    "### Conclusion\n",
    "\n",
    "Maximal classifier accuracy is 0.9649122807017544 and is achieved at k values of 23,24 and 56."
   ]
  }
 ],
 "metadata": {
  "kernelspec": {
   "display_name": "Python 3 (ipykernel)",
   "language": "python",
   "name": "python3"
  },
  "language_info": {
   "codemirror_mode": {
    "name": "ipython",
    "version": 3
   },
   "file_extension": ".py",
   "mimetype": "text/x-python",
   "name": "python",
   "nbconvert_exporter": "python",
   "pygments_lexer": "ipython3",
   "version": "3.9.7"
  }
 },
 "nbformat": 4,
 "nbformat_minor": 5
}
